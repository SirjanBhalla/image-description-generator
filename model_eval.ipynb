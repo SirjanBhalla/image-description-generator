{
 "cells": [
  {
   "cell_type": "code",
   "execution_count": 7,
   "id": "48b2ac8b",
   "metadata": {},
   "outputs": [
    {
     "name": "stderr",
     "output_type": "stream",
     "text": [
      "f:\\my_captioning\\.venv\\lib\\site-packages\\tqdm\\auto.py:21: TqdmWarning: IProgress not found. Please update jupyter and ipywidgets. See https://ipywidgets.readthedocs.io/en/stable/user_install.html\n",
      "  from .autonotebook import tqdm as notebook_tqdm\n"
     ]
    }
   ],
   "source": [
    "import os\n",
    "import pandas as pd\n",
    "from PIL import Image\n",
    "import torch\n",
    "from transformers import BlipProcessor, BlipForConditionalGeneration\n",
    "import nltk\n",
    "from nltk.translate.bleu_score import corpus_bleu\n",
    "from nltk.tokenize import word_tokenize"
   ]
  },
  {
   "cell_type": "code",
   "execution_count": 2,
   "id": "ca721adb",
   "metadata": {},
   "outputs": [
    {
     "name": "stderr",
     "output_type": "stream",
     "text": [
      "[nltk_data] Downloading package punkt to\n",
      "[nltk_data]     C:\\Users\\sirja\\AppData\\Roaming\\nltk_data...\n",
      "[nltk_data]   Package punkt is already up-to-date!\n"
     ]
    },
    {
     "data": {
      "text/plain": [
       "True"
      ]
     },
     "execution_count": 2,
     "metadata": {},
     "output_type": "execute_result"
    }
   ],
   "source": [
    "nltk.download('punkt')"
   ]
  },
  {
   "cell_type": "code",
   "execution_count": 8,
   "id": "217f017c",
   "metadata": {},
   "outputs": [],
   "source": [
    "CAPTIONS_FILE = './data/captions.txt'  \n",
    "MODEL_PATH = './models/blip-ft/final_blip_model3' \n",
    "TEST_IMAGES_FILE = 'testing_images.txt'\n",
    "IMAGES_FOLDER = './data/images'"
   ]
  },
  {
   "cell_type": "code",
   "execution_count": 9,
   "id": "07fa89b6",
   "metadata": {},
   "outputs": [
    {
     "name": "stderr",
     "output_type": "stream",
     "text": [
      "Using a slow image processor as `use_fast` is unset and a slow processor was saved with this model. `use_fast=True` will be the default behavior in v4.52, even if the model was saved with a slow processor. This will result in minor differences in outputs. You'll still be able to use a slow processor with `use_fast=False`.\n"
     ]
    }
   ],
   "source": [
    "device = \"cuda\" if torch.cuda.is_available() else \"cpu\"\n",
    "processor = BlipProcessor.from_pretrained(MODEL_PATH)\n",
    "model = BlipForConditionalGeneration.from_pretrained(MODEL_PATH).to(device)"
   ]
  },
  {
   "cell_type": "code",
   "execution_count": 10,
   "id": "6a7a1a58",
   "metadata": {},
   "outputs": [],
   "source": [
    "df = pd.read_csv(CAPTIONS_FILE, sep=',', header=None, names=['image', 'caption'])\n",
    "with open(TEST_IMAGES_FILE, 'r') as f:\n",
    "    test_image_list = [line.strip() for line in f]"
   ]
  },
  {
   "cell_type": "code",
   "execution_count": 11,
   "id": "98fa04c6",
   "metadata": {},
   "outputs": [],
   "source": [
    "references_list = []\n",
    "hypotheses_list = []"
   ]
  },
  {
   "cell_type": "code",
   "execution_count": 16,
   "id": "6198a8c8",
   "metadata": {},
   "outputs": [],
   "source": [
    "for img_name in test_image_list[:1000]: \n",
    "    refs = df[df['image'] == img_name]['caption'].tolist()\n",
    "    if not refs:\n",
    "        continue\n",
    "\n",
    " \n",
    "    tokenized_refs = [word_tokenize(r.lower()) for r in refs]\n",
    "\n",
    " \n",
    "    img_path = os.path.join(IMAGES_FOLDER, img_name)\n",
    "    if not os.path.exists(img_path):\n",
    "        continue\n",
    "\n",
    "    image = Image.open(img_path).convert(\"RGB\")\n",
    "\n",
    "\n",
    "    inputs = processor(images=image, return_tensors=\"pt\").to(device)\n",
    "    out_ids = model.generate(pixel_values=inputs.pixel_values, max_length=50)\n",
    "    gen_caption = processor.batch_decode(out_ids, skip_special_tokens=True)[0]\n",
    "    tokenized_gen = word_tokenize(gen_caption.lower())\n",
    "\n",
    "\n",
    "    references_list.append(tokenized_refs)\n",
    "    hypotheses_list.append(tokenized_gen)"
   ]
  },
  {
   "cell_type": "code",
   "execution_count": 17,
   "id": "347e1ac9",
   "metadata": {},
   "outputs": [
    {
     "name": "stdout",
     "output_type": "stream",
     "text": [
      "Corpus BLEU score: 0.33\n"
     ]
    }
   ],
   "source": [
    "score = corpus_bleu(references_list, hypotheses_list)\n",
    "print(f\"Corpus BLEU score: {score:.2f}\")"
   ]
  },
  {
   "cell_type": "code",
   "execution_count": null,
   "id": "205d135e",
   "metadata": {},
   "outputs": [],
   "source": []
  }
 ],
 "metadata": {
  "kernelspec": {
   "display_name": ".venv",
   "language": "python",
   "name": "python3"
  },
  "language_info": {
   "codemirror_mode": {
    "name": "ipython",
    "version": 3
   },
   "file_extension": ".py",
   "mimetype": "text/x-python",
   "name": "python",
   "nbconvert_exporter": "python",
   "pygments_lexer": "ipython3",
   "version": "3.10.14"
  }
 },
 "nbformat": 4,
 "nbformat_minor": 5
}
